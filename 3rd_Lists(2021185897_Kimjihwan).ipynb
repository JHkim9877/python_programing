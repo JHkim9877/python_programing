{
 "cells": [
  {
   "cell_type": "markdown",
   "id": "07796a91",
   "metadata": {},
   "source": [
    "Quiz on List"
   ]
  },
  {
   "cell_type": "markdown",
   "id": "fd4a10c2",
   "metadata": {},
   "source": [
    "Create a list a_list, with the following elements 1, hello, [1,2,3] and True"
   ]
  },
  {
   "cell_type": "code",
   "execution_count": 1,
   "id": "c327579d",
   "metadata": {},
   "outputs": [
    {
     "data": {
      "text/plain": [
       "[1, 'hello', [1, 2, 3], True]"
      ]
     },
     "execution_count": 1,
     "metadata": {},
     "output_type": "execute_result"
    }
   ],
   "source": [
    "a_list = [1, 'hello', [1, 2, 3] , True]\n",
    "a_list"
   ]
  },
  {
   "cell_type": "markdown",
   "id": "2c05a359",
   "metadata": {},
   "source": [
    "Find the value stored at index 1 of a_list."
   ]
  },
  {
   "cell_type": "code",
   "execution_count": 2,
   "id": "e8c9ef14",
   "metadata": {},
   "outputs": [
    {
     "data": {
      "text/plain": [
       "'hello'"
      ]
     },
     "execution_count": 2,
     "metadata": {},
     "output_type": "execute_result"
    }
   ],
   "source": [
    "a_list[1]"
   ]
  },
  {
   "cell_type": "markdown",
   "id": "b349c91d",
   "metadata": {},
   "source": [
    "Retrieve the elements stored at index 1, 2 and 3 of a_list."
   ]
  },
  {
   "cell_type": "code",
   "execution_count": 3,
   "id": "d523fea0",
   "metadata": {},
   "outputs": [
    {
     "data": {
      "text/plain": [
       "['hello', [1, 2, 3], True]"
      ]
     },
     "execution_count": 3,
     "metadata": {},
     "output_type": "execute_result"
    }
   ],
   "source": [
    "a_list[1:4]"
   ]
  },
  {
   "cell_type": "markdown",
   "id": "1a101081",
   "metadata": {},
   "source": [
    "Concatenate the following lists A = [1, 'a'] and B = [2, 1, 'd']:"
   ]
  },
  {
   "cell_type": "code",
   "execution_count": 4,
   "id": "61b283a1",
   "metadata": {},
   "outputs": [
    {
     "data": {
      "text/plain": [
       "[1, 'a', 2, 1, 'd']"
      ]
     },
     "execution_count": 4,
     "metadata": {},
     "output_type": "execute_result"
    }
   ],
   "source": [
    "A = [1, 'a'] \n",
    "B = [2, 1, 'd']\n",
    "A + B"
   ]
  },
  {
   "cell_type": "code",
   "execution_count": null,
   "id": "44e32abf",
   "metadata": {},
   "outputs": [],
   "source": []
  }
 ],
 "metadata": {
  "kernelspec": {
   "display_name": "Python 3 (ipykernel)",
   "language": "python",
   "name": "python3"
  },
  "language_info": {
   "codemirror_mode": {
    "name": "ipython",
    "version": 3
   },
   "file_extension": ".py",
   "mimetype": "text/x-python",
   "name": "python",
   "nbconvert_exporter": "python",
   "pygments_lexer": "ipython3",
   "version": "3.9.7"
  }
 },
 "nbformat": 4,
 "nbformat_minor": 5
}
