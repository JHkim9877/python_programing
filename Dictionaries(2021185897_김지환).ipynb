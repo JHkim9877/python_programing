{
 "cells": [
  {
   "cell_type": "markdown",
   "id": "e3f13a88",
   "metadata": {},
   "source": [
    "Quiz on Dictionaries"
   ]
  },
  {
   "cell_type": "markdown",
   "id": "c3fe648a",
   "metadata": {},
   "source": [
    "You will need this dictionary for the next two questions:"
   ]
  },
  {
   "cell_type": "code",
   "execution_count": 1,
   "id": "f5b3c76c",
   "metadata": {},
   "outputs": [
    {
     "data": {
      "text/plain": [
       "{'The Bodyguard': '1992', 'Saturday Night Fever': '1977'}"
      ]
     },
     "execution_count": 1,
     "metadata": {},
     "output_type": "execute_result"
    }
   ],
   "source": [
    "soundtrack_dic = {\"The Bodyguard\":\"1992\", \"Saturday Night Fever\":\"1977\"}\n",
    "soundtrack_dic "
   ]
  },
  {
   "cell_type": "markdown",
   "id": "9afc2663",
   "metadata": {},
   "source": [
    "a) In the dictionary soundtrack_dict what are the keys ?"
   ]
  },
  {
   "cell_type": "code",
   "execution_count": 2,
   "id": "ef60134e",
   "metadata": {},
   "outputs": [
    {
     "data": {
      "text/plain": [
       "dict_keys(['The Bodyguard', 'Saturday Night Fever'])"
      ]
     },
     "execution_count": 2,
     "metadata": {},
     "output_type": "execute_result"
    }
   ],
   "source": [
    "soundtrack_dic.keys()"
   ]
  },
  {
   "cell_type": "markdown",
   "id": "44a84b7a",
   "metadata": {},
   "source": [
    "b) In the dictionary soundtrack_dict what are the values ?"
   ]
  },
  {
   "cell_type": "code",
   "execution_count": 3,
   "id": "037e3fe8",
   "metadata": {},
   "outputs": [
    {
     "data": {
      "text/plain": [
       "dict_values(['1992', '1977'])"
      ]
     },
     "execution_count": 3,
     "metadata": {},
     "output_type": "execute_result"
    }
   ],
   "source": [
    "soundtrack_dic.values()"
   ]
  },
  {
   "cell_type": "markdown",
   "id": "4520871f",
   "metadata": {},
   "source": [
    "You will need this dictionary for the following questions:\n",
    "The Albums Back in Black, The Bodyguard and Thriller have the following music recording sales in millions 50, 50 and 65 respectively:"
   ]
  },
  {
   "cell_type": "markdown",
   "id": "9352a92a",
   "metadata": {},
   "source": [
    "a) Create a dictionary album_sales_dict where the keys are the album name and the sales in millions are the values."
   ]
  },
  {
   "cell_type": "code",
   "execution_count": 5,
   "id": "5c70a791",
   "metadata": {},
   "outputs": [
    {
     "data": {
      "text/plain": [
       "{'The Bodyguard': 50, 'Back in Black': 50, 'Thriller': 65}"
      ]
     },
     "execution_count": 5,
     "metadata": {},
     "output_type": "execute_result"
    }
   ],
   "source": [
    "album_sales_dict = {\"The Bodyguard\":50, \"Back in Black\":50, \"Thriller\":65}\n",
    "album_sales_dict"
   ]
  },
  {
   "cell_type": "markdown",
   "id": "19da6f25",
   "metadata": {},
   "source": [
    "b) Use the dictionary to find the total sales of Thriller:"
   ]
  },
  {
   "cell_type": "code",
   "execution_count": 6,
   "id": "461f3a04",
   "metadata": {},
   "outputs": [
    {
     "data": {
      "text/plain": [
       "65"
      ]
     },
     "execution_count": 6,
     "metadata": {},
     "output_type": "execute_result"
    }
   ],
   "source": [
    "album_sales_dict[\"Thriller\"]"
   ]
  },
  {
   "cell_type": "markdown",
   "id": "6ce9f52c",
   "metadata": {},
   "source": [
    "c) Find the names of the albums from the dictionary using the method keys:"
   ]
  },
  {
   "cell_type": "code",
   "execution_count": 7,
   "id": "8ea16c79",
   "metadata": {},
   "outputs": [
    {
     "data": {
      "text/plain": [
       "dict_keys(['The Bodyguard', 'Back in Black', 'Thriller'])"
      ]
     },
     "execution_count": 7,
     "metadata": {},
     "output_type": "execute_result"
    }
   ],
   "source": [
    "album_sales_dict.keys()"
   ]
  },
  {
   "cell_type": "markdown",
   "id": "0166dbc9",
   "metadata": {},
   "source": [
    "d) Find the names of the recording sales from the dictionary using the method values:"
   ]
  },
  {
   "cell_type": "code",
   "execution_count": 8,
   "id": "facc85db",
   "metadata": {},
   "outputs": [
    {
     "data": {
      "text/plain": [
       "dict_values([50, 50, 65])"
      ]
     },
     "execution_count": 8,
     "metadata": {},
     "output_type": "execute_result"
    }
   ],
   "source": [
    "album_sales_dict.values()"
   ]
  },
  {
   "cell_type": "code",
   "execution_count": null,
   "id": "68d5dfb7",
   "metadata": {},
   "outputs": [],
   "source": []
  }
 ],
 "metadata": {
  "kernelspec": {
   "display_name": "Python 3 (ipykernel)",
   "language": "python",
   "name": "python3"
  },
  "language_info": {
   "codemirror_mode": {
    "name": "ipython",
    "version": 3
   },
   "file_extension": ".py",
   "mimetype": "text/x-python",
   "name": "python",
   "nbconvert_exporter": "python",
   "pygments_lexer": "ipython3",
   "version": "3.9.7"
  }
 },
 "nbformat": 4,
 "nbformat_minor": 5
}
