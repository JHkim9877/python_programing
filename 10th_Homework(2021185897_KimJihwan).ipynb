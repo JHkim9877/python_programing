{
 "cells": [
  {
   "cell_type": "markdown",
   "id": "57e9a7bb",
   "metadata": {},
   "source": [
    "계산기 더하기 기능"
   ]
  },
  {
   "cell_type": "code",
   "execution_count": 3,
   "id": "3ca4f8df",
   "metadata": {},
   "outputs": [],
   "source": [
    "result=0\n",
    "\n",
    "def adder(num):\n",
    "    global result\n",
    "    result += num\n",
    "    return result\n",
    "    \n",
    "    print(adder(3))\n",
    "    print(addier(4))"
   ]
  },
  {
   "cell_type": "code",
   "execution_count": 4,
   "id": "014fe06b",
   "metadata": {},
   "outputs": [
    {
     "name": "stdout",
     "output_type": "stream",
     "text": [
      "4\n"
     ]
    }
   ],
   "source": [
    "print(adder(4))"
   ]
  },
  {
   "cell_type": "code",
   "execution_count": 5,
   "id": "845f1587",
   "metadata": {},
   "outputs": [
    {
     "name": "stdout",
     "output_type": "stream",
     "text": [
      "9\n"
     ]
    }
   ],
   "source": [
    "print(adder(5))"
   ]
  },
  {
   "cell_type": "code",
   "execution_count": 10,
   "id": "113980fc",
   "metadata": {},
   "outputs": [],
   "source": [
    "result1=0\n",
    "result2=0\n",
    "\n",
    "def adder1(num):\n",
    "    global result1\n",
    "    result1 += num\n",
    "    return result1\n",
    "\n",
    "def adder2(num):\n",
    "    global result2\n",
    "    result2 += num\n",
    "    return result2"
   ]
  },
  {
   "cell_type": "code",
   "execution_count": 11,
   "id": "8fbd23d7",
   "metadata": {},
   "outputs": [
    {
     "name": "stdout",
     "output_type": "stream",
     "text": [
      "3\n",
      "7\n",
      "3\n",
      "10\n"
     ]
    }
   ],
   "source": [
    "print(adder1(3))\n",
    "print(adder1(4))\n",
    "print(adder2(3))\n",
    "print(adder2(7))"
   ]
  },
  {
   "cell_type": "code",
   "execution_count": 13,
   "id": "478ce167",
   "metadata": {},
   "outputs": [],
   "source": [
    "class Calculator:\n",
    "    def __init__(self):\n",
    "        self.result=0\n",
    "    def adder(self, num):\n",
    "        self.result +=num\n",
    "        return self.result\n",
    "    \n",
    "cal1 = Calculator()\n",
    "cal2 = Calculator()\n",
    "        "
   ]
  },
  {
   "cell_type": "code",
   "execution_count": 14,
   "id": "67ba79bb",
   "metadata": {},
   "outputs": [
    {
     "name": "stdout",
     "output_type": "stream",
     "text": [
      "3\n",
      "7\n",
      "3\n",
      "10\n"
     ]
    }
   ],
   "source": [
    "print(cal1.adder(3))\n",
    "print(cal1.adder(4))\n",
    "print(cal2.adder(3))\n",
    "print(cal2.adder(7))"
   ]
  },
  {
   "cell_type": "markdown",
   "id": "e4b0bad3",
   "metadata": {},
   "source": [
    "클래스변수"
   ]
  },
  {
   "cell_type": "code",
   "execution_count": 17,
   "id": "89674e1d",
   "metadata": {},
   "outputs": [],
   "source": [
    "class Service:\n",
    "    secret = \"지구는 4046년에 멸망한다.\""
   ]
  },
  {
   "cell_type": "code",
   "execution_count": 18,
   "id": "b501bd1e",
   "metadata": {},
   "outputs": [],
   "source": [
    "an = Service()"
   ]
  },
  {
   "cell_type": "code",
   "execution_count": 19,
   "id": "0ad30c88",
   "metadata": {},
   "outputs": [
    {
     "data": {
      "text/plain": [
       "'지구는 4046년에 멸망한다.'"
      ]
     },
     "execution_count": 19,
     "metadata": {},
     "output_type": "execute_result"
    }
   ],
   "source": [
    "an.secret"
   ]
  },
  {
   "cell_type": "code",
   "execution_count": 20,
   "id": "7a2e5be9",
   "metadata": {},
   "outputs": [
    {
     "data": {
      "text/plain": [
       "'지구는 4046년에 멸망한다.'"
      ]
     },
     "execution_count": 20,
     "metadata": {},
     "output_type": "execute_result"
    }
   ],
   "source": [
    "Service.secret"
   ]
  },
  {
   "cell_type": "code",
   "execution_count": 21,
   "id": "c5331e23",
   "metadata": {},
   "outputs": [],
   "source": [
    "Service.secret = '지구가 4006년에 멸망한다는 사실은 뻥이다'"
   ]
  },
  {
   "cell_type": "code",
   "execution_count": 22,
   "id": "5c6ef257",
   "metadata": {},
   "outputs": [
    {
     "name": "stdout",
     "output_type": "stream",
     "text": [
      "지구가 4006년에 멸망한다는 사실은 뻥이다\n"
     ]
    }
   ],
   "source": [
    "print(an.secret)"
   ]
  },
  {
   "cell_type": "code",
   "execution_count": 23,
   "id": "63296b42",
   "metadata": {},
   "outputs": [],
   "source": [
    "class Service:\n",
    "    secret = \"지구는 4046년에 멸망한다.\"\n",
    "    def sum(self,a,b):\n",
    "        result=a+b\n",
    "        print(\"%s + %s = %s이다.\" %(a,b,result))"
   ]
  },
  {
   "cell_type": "code",
   "execution_count": 24,
   "id": "845978cd",
   "metadata": {},
   "outputs": [],
   "source": [
    "an = Service()"
   ]
  },
  {
   "cell_type": "code",
   "execution_count": 25,
   "id": "075ed430",
   "metadata": {},
   "outputs": [
    {
     "name": "stdout",
     "output_type": "stream",
     "text": [
      "1 + 1 = 2이다.\n"
     ]
    }
   ],
   "source": [
    "an.sum(1,1)"
   ]
  },
  {
   "cell_type": "markdown",
   "id": "13cba465",
   "metadata": {},
   "source": [
    "객체변수"
   ]
  },
  {
   "cell_type": "code",
   "execution_count": 26,
   "id": "43b83728",
   "metadata": {},
   "outputs": [],
   "source": [
    "class Service:\n",
    "    secret = \"지구는 4046년에 멸망한다.\"\n",
    "    def setname(self,name):\n",
    "        self.name = name\n",
    "    def sum(self,a,b):\n",
    "        result=a+b\n",
    "        print(\"%s님, %s + %s = %s입니다.\" %(self.name,a,b,result))"
   ]
  },
  {
   "cell_type": "code",
   "execution_count": 28,
   "id": "ff7e3031",
   "metadata": {},
   "outputs": [],
   "source": [
    "an = Service()\n",
    "an.setname(\"박달도사\")"
   ]
  },
  {
   "cell_type": "code",
   "execution_count": 29,
   "id": "73ba6916",
   "metadata": {},
   "outputs": [
    {
     "name": "stdout",
     "output_type": "stream",
     "text": [
      "박달도사님, 1 + 1 = 2입니다.\n"
     ]
    }
   ],
   "source": [
    "an.sum(1,1)"
   ]
  },
  {
   "cell_type": "code",
   "execution_count": 30,
   "id": "3493021b",
   "metadata": {},
   "outputs": [],
   "source": [
    "kim = Service()\n",
    "park = Service()\n",
    "kim.name = \"김정보\"\n",
    "park.name = \"박융합\""
   ]
  },
  {
   "cell_type": "code",
   "execution_count": 31,
   "id": "ac89c268",
   "metadata": {},
   "outputs": [
    {
     "name": "stdout",
     "output_type": "stream",
     "text": [
      "김정보\n"
     ]
    }
   ],
   "source": [
    "print(kim.name)"
   ]
  },
  {
   "cell_type": "code",
   "execution_count": 32,
   "id": "8ab852b7",
   "metadata": {},
   "outputs": [
    {
     "name": "stdout",
     "output_type": "stream",
     "text": [
      "박융합\n"
     ]
    }
   ],
   "source": [
    "print(park.name)"
   ]
  },
  {
   "cell_type": "code",
   "execution_count": 33,
   "id": "66df7a30",
   "metadata": {},
   "outputs": [],
   "source": [
    "kim.secret = \"비밀은 없다\""
   ]
  },
  {
   "cell_type": "code",
   "execution_count": 34,
   "id": "f8c95f7b",
   "metadata": {},
   "outputs": [
    {
     "name": "stdout",
     "output_type": "stream",
     "text": [
      "지구는 4046년에 멸망한다.\n"
     ]
    }
   ],
   "source": [
    "print(park.secret)"
   ]
  },
  {
   "cell_type": "code",
   "execution_count": 36,
   "id": "9b42975e",
   "metadata": {},
   "outputs": [
    {
     "name": "stdout",
     "output_type": "stream",
     "text": [
      "비밀은 없다\n"
     ]
    }
   ],
   "source": [
    "print(kim.secret)"
   ]
  },
  {
   "cell_type": "code",
   "execution_count": 37,
   "id": "b6510a4b",
   "metadata": {},
   "outputs": [
    {
     "data": {
      "text/plain": [
       "'지구는 4046년에 멸망한다.'"
      ]
     },
     "execution_count": 37,
     "metadata": {},
     "output_type": "execute_result"
    }
   ],
   "source": [
    "Service.secret"
   ]
  },
  {
   "cell_type": "code",
   "execution_count": 38,
   "id": "5aadbc1e",
   "metadata": {},
   "outputs": [],
   "source": [
    "class Service:\n",
    "    secret = \"지구는 4046년에 멸망한다.\"\n",
    "    def __init__(self,name):\n",
    "        self.name = name\n",
    "    def sum(self,a,b):\n",
    "        result=a+b\n",
    "        print(\"%s님, %s + %s = %s입니다.\" %(self.name,a,b,result))"
   ]
  },
  {
   "cell_type": "code",
   "execution_count": 39,
   "id": "469c42a8",
   "metadata": {},
   "outputs": [],
   "source": [
    "an=Service(\"박달도사\")"
   ]
  },
  {
   "cell_type": "code",
   "execution_count": 40,
   "id": "7e3b9991",
   "metadata": {},
   "outputs": [
    {
     "name": "stdout",
     "output_type": "stream",
     "text": [
      "박달도사님, 1 + 1 = 2입니다.\n"
     ]
    }
   ],
   "source": [
    "an.sum(1,1)"
   ]
  },
  {
   "cell_type": "markdown",
   "id": "1325758e",
   "metadata": {},
   "source": [
    "사칙연산 클래스"
   ]
  },
  {
   "cell_type": "code",
   "execution_count": 41,
   "id": "7406b16c",
   "metadata": {},
   "outputs": [],
   "source": [
    "class FourCal:\n",
    "    pass"
   ]
  },
  {
   "cell_type": "code",
   "execution_count": 42,
   "id": "b91554bd",
   "metadata": {},
   "outputs": [],
   "source": [
    "a=FourCal()"
   ]
  },
  {
   "cell_type": "code",
   "execution_count": 43,
   "id": "bfe1b4e0",
   "metadata": {},
   "outputs": [
    {
     "data": {
      "text/plain": [
       "__main__.FourCal"
      ]
     },
     "execution_count": 43,
     "metadata": {},
     "output_type": "execute_result"
    }
   ],
   "source": [
    "type(a)"
   ]
  },
  {
   "cell_type": "code",
   "execution_count": 44,
   "id": "ad10af61",
   "metadata": {},
   "outputs": [],
   "source": [
    "class FourCal:\n",
    "    def setdata(self,first,second):\n",
    "        self.first=first\n",
    "        self.second=second"
   ]
  },
  {
   "cell_type": "code",
   "execution_count": 45,
   "id": "91f12211",
   "metadata": {},
   "outputs": [],
   "source": [
    "a=FourCal()"
   ]
  },
  {
   "cell_type": "code",
   "execution_count": 47,
   "id": "4e737535",
   "metadata": {},
   "outputs": [],
   "source": [
    "a.setdata(4,2)"
   ]
  },
  {
   "cell_type": "code",
   "execution_count": 48,
   "id": "b82c8018",
   "metadata": {},
   "outputs": [
    {
     "name": "stdout",
     "output_type": "stream",
     "text": [
      "4\n",
      "2\n"
     ]
    }
   ],
   "source": [
    "print(a.first)\n",
    "print(a.second)"
   ]
  },
  {
   "cell_type": "code",
   "execution_count": 49,
   "id": "4c7b83a3",
   "metadata": {},
   "outputs": [],
   "source": [
    "class FourCal:\n",
    "    def setdata(self,first,second):\n",
    "        self.first=first\n",
    "        self.second=second\n",
    "    def sum(self):\n",
    "        result=self.first+self.second\n",
    "        return result\n",
    "    "
   ]
  },
  {
   "cell_type": "code",
   "execution_count": 52,
   "id": "63cebe9f",
   "metadata": {},
   "outputs": [],
   "source": [
    "a=FourCal()\n",
    "a.setdata(4,2)"
   ]
  },
  {
   "cell_type": "code",
   "execution_count": 53,
   "id": "fd32c121",
   "metadata": {},
   "outputs": [
    {
     "name": "stdout",
     "output_type": "stream",
     "text": [
      "6\n"
     ]
    }
   ],
   "source": [
    "print(a.sum())"
   ]
  },
  {
   "cell_type": "code",
   "execution_count": 54,
   "id": "297aafd4",
   "metadata": {},
   "outputs": [],
   "source": [
    "class FourCal:\n",
    "    def setdata(self,first,second):\n",
    "        self.first=first\n",
    "        self.second=second\n",
    "    def sum(self):\n",
    "        result=self.first+self.second\n",
    "        return result\n",
    "    def mul(self):\n",
    "        result=self.first*self.second\n",
    "        return result\n",
    "    def sub(self):\n",
    "        result=self.first-self.second\n",
    "        return result\n",
    "    def div(self):\n",
    "        result=self.first/self.second\n",
    "        return result"
   ]
  },
  {
   "cell_type": "code",
   "execution_count": 55,
   "id": "3dffd067",
   "metadata": {},
   "outputs": [],
   "source": [
    "a=FourCal()\n",
    "b=FourCal()"
   ]
  },
  {
   "cell_type": "code",
   "execution_count": 56,
   "id": "ba12b64b",
   "metadata": {},
   "outputs": [],
   "source": [
    "a.setdata(4,2)\n",
    "b.setdata(3,7)"
   ]
  },
  {
   "cell_type": "code",
   "execution_count": 58,
   "id": "77fb6a56",
   "metadata": {},
   "outputs": [
    {
     "data": {
      "text/plain": [
       "6"
      ]
     },
     "execution_count": 58,
     "metadata": {},
     "output_type": "execute_result"
    }
   ],
   "source": [
    "a.sum()"
   ]
  },
  {
   "cell_type": "code",
   "execution_count": 59,
   "id": "c2260868",
   "metadata": {},
   "outputs": [
    {
     "data": {
      "text/plain": [
       "2"
      ]
     },
     "execution_count": 59,
     "metadata": {},
     "output_type": "execute_result"
    }
   ],
   "source": [
    "a.sub()"
   ]
  },
  {
   "cell_type": "code",
   "execution_count": 60,
   "id": "b47393a2",
   "metadata": {},
   "outputs": [
    {
     "data": {
      "text/plain": [
       "2.0"
      ]
     },
     "execution_count": 60,
     "metadata": {},
     "output_type": "execute_result"
    }
   ],
   "source": [
    "a.div()"
   ]
  },
  {
   "cell_type": "code",
   "execution_count": 61,
   "id": "01e313d7",
   "metadata": {},
   "outputs": [
    {
     "data": {
      "text/plain": [
       "-4"
      ]
     },
     "execution_count": 61,
     "metadata": {},
     "output_type": "execute_result"
    }
   ],
   "source": [
    "b.sub()"
   ]
  },
  {
   "cell_type": "code",
   "execution_count": 72,
   "id": "6bc46ac3",
   "metadata": {},
   "outputs": [
    {
     "name": "stdout",
     "output_type": "stream",
     "text": [
      "Player 1 rolled[5, 6, 3]\n",
      "Player 2 rolled[3, 4, 4]\n",
      "Player 1 wins\n"
     ]
    }
   ],
   "source": [
    "import random\n",
    "\n",
    "player1_dice = []\n",
    "player2_dice = []\n",
    "\n",
    "for i in range(3):\n",
    "    player1_dice.append(random.randint(1,6))\n",
    "    player2_dice.append(random.randint(1,6))\n",
    "\n",
    "print(\"Player 1 rolled\" + str(player1_dice))\n",
    "print(\"Player 2 rolled\" + str(player2_dice))\n",
    "\n",
    "if sum(player1_dice) == sum(player2_dice):\n",
    "    print(\"Draw\")\n",
    "elif sum(player1_dice) > sum(player2_dice):\n",
    "    print(\"Player 1 wins\")\n",
    "else:\n",
    "    print(\"Player 2 wins\")"
   ]
  },
  {
   "cell_type": "code",
   "execution_count": 70,
   "id": "697289d4",
   "metadata": {},
   "outputs": [
    {
     "name": "stdout",
     "output_type": "stream",
     "text": [
      "Player 1 rolled[6, 2, 2]\n",
      "Player 2 rolled[4, 1, 2]\n",
      "Player 1 wins!\n"
     ]
    }
   ],
   "source": [
    "from random import randint\n",
    "\n",
    "class Player:\n",
    "    def __init__(self):\n",
    "        self.dice = []\n",
    "\n",
    "    def roll(self):\n",
    "        self.dice = [] # clears current dice\n",
    "        for i in range(3):\n",
    "            self.dice.append(randint(1,6))\n",
    "\n",
    "    def get_dice(self):\n",
    "        return self.dice\n",
    "\n",
    "player1 = Player()\n",
    "player2 = Player()\n",
    "\n",
    "player1.roll()\n",
    "player2.roll()\n",
    "\n",
    "print(\"Player 1 rolled\" + str(player1.get_dice()))\n",
    "print(\"Player 2 rolled\" + str(player2.get_dice()))\n",
    "\n",
    "if sum(player1.get_dice()) == sum(player2.get_dice()):\n",
    "    print(\"Draw!\")\n",
    "elif sum(player1.get_dice()) > sum(player2.get_dice()):\n",
    "    print(\"Player 1 wins!\")\n",
    "else:\n",
    "    print(\"Player 2 wins!\")"
   ]
  },
  {
   "cell_type": "code",
   "execution_count": null,
   "id": "ce2931b5",
   "metadata": {},
   "outputs": [],
   "source": []
  },
  {
   "cell_type": "code",
   "execution_count": null,
   "id": "2e01d7a1",
   "metadata": {},
   "outputs": [],
   "source": []
  },
  {
   "cell_type": "code",
   "execution_count": null,
   "id": "ed369b24",
   "metadata": {},
   "outputs": [],
   "source": []
  },
  {
   "cell_type": "code",
   "execution_count": null,
   "id": "08f750b5",
   "metadata": {},
   "outputs": [],
   "source": []
  },
  {
   "cell_type": "code",
   "execution_count": null,
   "id": "ea36ffe8",
   "metadata": {},
   "outputs": [],
   "source": []
  },
  {
   "cell_type": "code",
   "execution_count": null,
   "id": "b8d25e64",
   "metadata": {},
   "outputs": [],
   "source": []
  }
 ],
 "metadata": {
  "kernelspec": {
   "display_name": "Python 3 (ipykernel)",
   "language": "python",
   "name": "python3"
  },
  "language_info": {
   "codemirror_mode": {
    "name": "ipython",
    "version": 3
   },
   "file_extension": ".py",
   "mimetype": "text/x-python",
   "name": "python",
   "nbconvert_exporter": "python",
   "pygments_lexer": "ipython3",
   "version": "3.9.7"
  }
 },
 "nbformat": 4,
 "nbformat_minor": 5
}
